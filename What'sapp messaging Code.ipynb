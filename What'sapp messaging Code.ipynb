{
 "cells": [
  {
   "cell_type": "code",
   "execution_count": 2,
   "metadata": {},
   "outputs": [],
   "source": [
    "import pywhatkit as py\n",
    "import time\n",
    "import pyautogui as pg\n",
    "import keyboard as k"
   ]
  },
  {
   "cell_type": "code",
   "execution_count": null,
   "metadata": {},
   "outputs": [
    {
     "name": "stdout",
     "output_type": "stream",
     "text": [
      "In 45324 seconds web.whatsapp.com will open and after 30 seconds message will be delivered\n"
     ]
    }
   ],
   "source": [
    "py.sendwhatmsg(\"+919701898663\",\"Testing\",11,41,wait_time=30)\n",
    "p.click(1050, 950)\n",
    "time.sleep(2)\n",
    "k.press_and_release('enter')"
   ]
  },
  {
   "cell_type": "code",
   "execution_count": null,
   "metadata": {},
   "outputs": [],
   "source": [
    "!pip install keyboard"
   ]
  },
  {
   "cell_type": "code",
   "execution_count": null,
   "metadata": {},
   "outputs": [],
   "source": [
    "py.sendwhatmsg(\"+919701898663\",\"hi\",11,45,wait_time=30)\n",
    "p.press(\"Enter\")"
   ]
  },
  {
   "cell_type": "code",
   "execution_count": 2,
   "metadata": {},
   "outputs": [
    {
     "ename": "NameError",
     "evalue": "name 'py' is not defined",
     "output_type": "error",
     "traceback": [
      "\u001b[1;31m---------------------------------------------------------------------------\u001b[0m",
      "\u001b[1;31mNameError\u001b[0m                                 Traceback (most recent call last)",
      "\u001b[1;32m<ipython-input-2-332300b72f0e>\u001b[0m in \u001b[0;36m<module>\u001b[1;34m\u001b[0m\n\u001b[1;32m----> 1\u001b[1;33m \u001b[0mpy\u001b[0m\u001b[1;33m.\u001b[0m\u001b[0msendwhatmsg\u001b[0m\u001b[1;33m(\u001b[0m\u001b[1;34m\"+919701898663\"\u001b[0m\u001b[1;33m,\u001b[0m\u001b[1;34m\"hi\"\u001b[0m\u001b[1;33m,\u001b[0m\u001b[1;36m12\u001b[0m\u001b[1;33m,\u001b[0m\u001b[1;36m3\u001b[0m\u001b[1;33m)\u001b[0m\u001b[1;33m\u001b[0m\u001b[1;33m\u001b[0m\u001b[0m\n\u001b[0m\u001b[0;32m      2\u001b[0m \u001b[0mpg\u001b[0m\u001b[1;33m.\u001b[0m\u001b[0mpress\u001b[0m\u001b[1;33m(\u001b[0m\u001b[1;34m\"tab\"\u001b[0m\u001b[1;33m)\u001b[0m\u001b[1;33m\u001b[0m\u001b[1;33m\u001b[0m\u001b[0m\n\u001b[0;32m      3\u001b[0m \u001b[0mpg\u001b[0m\u001b[1;33m.\u001b[0m\u001b[0mpress\u001b[0m\u001b[1;33m(\u001b[0m\u001b[1;34m\"tab\"\u001b[0m\u001b[1;33m)\u001b[0m\u001b[1;33m\u001b[0m\u001b[1;33m\u001b[0m\u001b[0m\n\u001b[0;32m      4\u001b[0m \u001b[0mpg\u001b[0m\u001b[1;33m.\u001b[0m\u001b[0mpress\u001b[0m\u001b[1;33m(\u001b[0m\u001b[1;34m\"tab\"\u001b[0m\u001b[1;33m)\u001b[0m\u001b[1;33m\u001b[0m\u001b[1;33m\u001b[0m\u001b[0m\n\u001b[0;32m      5\u001b[0m \u001b[0mpg\u001b[0m\u001b[1;33m.\u001b[0m\u001b[0mpress\u001b[0m\u001b[1;33m(\u001b[0m\u001b[1;34m\"tab\"\u001b[0m\u001b[1;33m)\u001b[0m\u001b[1;33m\u001b[0m\u001b[1;33m\u001b[0m\u001b[0m\n",
      "\u001b[1;31mNameError\u001b[0m: name 'py' is not defined"
     ]
    }
   ],
   "source": [
    "py.sendwhatmsg(\"+919701898663\",\"hi\",12,3)\n",
    "pg.press(\"tab\")\n",
    "pg.press(\"tab\")\n",
    "pg.press(\"tab\")\n",
    "pg.press(\"tab\")\n",
    "pg.press(\"tab\")\n",
    "pg.press(\"tab\")\n",
    "pg.press(\"tab\")\n",
    "pg.press(\"tab\")\n",
    "pg.press(\"tab\")\n",
    "pg.press(\"enter\")"
   ]
  },
  {
   "cell_type": "markdown",
   "metadata": {},
   "source": [
    "## Final code for \n",
    "## What'sapp messaging"
   ]
  },
  {
   "cell_type": "code",
   "execution_count": 2,
   "metadata": {},
   "outputs": [
    {
     "name": "stdout",
     "output_type": "stream",
     "text": [
      "In 51 seconds web.whatsapp.com will open and after 20 seconds message will be delivered\n"
     ]
    }
   ],
   "source": [
    "\n",
    "import pywhatkit as py\n",
    "import time\n",
    "import pyautogui as pg\n",
    "#import keyboard as k\n",
    "def funtowhtmsg(k,p,t1,t2):\n",
    "    import pywhatkit as py\n",
    "    import pyautogui as pg\n",
    "    t1 = int(t1);t2= int(t2)+2\n",
    "    py.sendwhatmsg(k,p,t1,t2)\n",
    "    pg.press(\"tab\")#1\n",
    "    pg.press(\"tab\")\n",
    "    pg.press(\"tab\")\n",
    "    pg.press(\"tab\")#4\n",
    "    pg.press(\"tab\")\n",
    "    pg.press(\"tab\")\n",
    "    pg.press(\"tab\")#7\n",
    "    pg.press(\"tab\")\n",
    "    pg.press(\"tab\")\n",
    "    pg.press(\"tab\")#8\n",
    "    pg.press(\"tab\")#9\n",
    "    pg.press(\"enter\")\n",
    "from datetime import datetime\n",
    "now = datetime.now()\n",
    "h,m=now.strftime(\"%H\"),now.strftime(\"%M\")\n",
    "\n",
    "#funtowhtmsg(input(\"Enter mobile number with country code\"),input(\"Enter msg to be sent\"),h,m)\n",
    "funtowhtmsg(\"+919701898663\",\"new\",h,m)"
   ]
  },
  {
   "cell_type": "markdown",
   "metadata": {},
   "source": [
    "from datetime import datetime\n",
    "\n",
    "now = datetime.now()\n",
    "\n",
    "current_time = now.strftime(\"%H:%M:%S\")\n",
    "print(\"Current Time =\", current_time)"
   ]
  },
  {
   "cell_type": "markdown",
   "metadata": {},
   "source": [
    "h,m=now.strftime(\"%H\"),now.strftime(\"%M\")"
   ]
  },
  {
   "cell_type": "code",
   "execution_count": null,
   "metadata": {},
   "outputs": [
    {
     "name": "stdout",
     "output_type": "stream",
     "text": [
      "In 43177 seconds web.whatsapp.com will open and after 20 seconds message will be delivered\n"
     ]
    }
   ],
   "source": [
    "nu = \"+919701898663\"\n",
    "ms = \"hi\"\n",
    "h = 11\n",
    "m = 12\n",
    "py.sendwhatmsg(nu,ms,h,m)"
   ]
  },
  {
   "cell_type": "code",
   "execution_count": null,
   "metadata": {},
   "outputs": [],
   "source": [
    "type(h)"
   ]
  },
  {
   "cell_type": "code",
   "execution_count": null,
   "metadata": {},
   "outputs": [],
   "source": []
  },
  {
   "cell_type": "code",
   "execution_count": null,
   "metadata": {},
   "outputs": [],
   "source": []
  }
 ],
 "metadata": {
  "kernelspec": {
   "display_name": "Python 3",
   "language": "python",
   "name": "python3"
  },
  "language_info": {
   "codemirror_mode": {
    "name": "ipython",
    "version": 3
   },
   "file_extension": ".py",
   "mimetype": "text/x-python",
   "name": "python",
   "nbconvert_exporter": "python",
   "pygments_lexer": "ipython3",
   "version": "3.8.5"
  }
 },
 "nbformat": 4,
 "nbformat_minor": 4
}
